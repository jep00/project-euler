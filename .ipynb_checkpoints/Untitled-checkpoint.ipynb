{
 "cells": [
  {
   "cell_type": "markdown",
   "metadata": {},
   "source": [
    "# Project Euler Problem 19\n",
    "## Counting Sundays\n",
    "\n",
    "*The problem:*\n",
    "You are given the following information, but you may prefer to do some research for yourself.\n",
    "\n",
    "* 1 Jan 1900 was a Monday.  \n",
    "* Thirty days has September,  April, June and November.  \n",
    "All the rest have thirty-one,  \n",
    "Saving February alone,  \n",
    "Which has twenty-eight, rain or shine.  \n",
    "And on leap years, twenty-nine. \n",
    "* A leap year occurs on any year evenly divisible by 4, but not on a century unless it is divisible by 400.\n",
    "\n",
    "How many Sundays fell on the first of the month during the twentieth century (1 Jan 1901 to 31 Dec 2000)?\n",
    "__"
   ]
  },
  {
   "cell_type": "code",
   "execution_count": 5,
   "metadata": {},
   "outputs": [
    {
     "name": "stdout",
     "output_type": "stream",
     "text": [
      "171.43\n"
     ]
    }
   ],
   "source": [
    "#Initial Guess (to see if our method is in the right 'ballpark')\n",
    "months = 12 * (2001 - 1901)\n",
    "guess = months / 7 # 1 seventh of the days are Sundays, assume Uniform distribution\n",
    "print(round(guess,2))"
   ]
  },
  {
   "cell_type": "code",
   "execution_count": 6,
   "metadata": {},
   "outputs": [
    {
     "name": "stdout",
     "output_type": "stream",
     "text": [
      "The number of first-of-the-month-Sundays:  171\n"
     ]
    }
   ],
   "source": [
    "import datetime as dt\n",
    "delta = dt.timedelta(days = 1)\n",
    "count = 0 #Initialise counter\n",
    "\n",
    "sunday = 6 #Monday = 0, ..., Sunday = 6 with the datetime package\n",
    "\n",
    "day = dt.datetime(1901, 1, 1) #Initial date, this will be updated\n",
    "end = dt.datetime(2000,12,31) #End date\n",
    "\n",
    "while day <= end:\n",
    "    if day.weekday() == sunday and day.day == 1:\n",
    "        count += 1\n",
    "    day += delta\n",
    "\n",
    "print(\"The number of first-of-the-month-Sundays: \", count)"
   ]
  },
  {
   "cell_type": "markdown",
   "metadata": {},
   "source": [
    "### Answer: 171"
   ]
  }
 ],
 "metadata": {
  "kernelspec": {
   "display_name": "Python 3",
   "language": "python",
   "name": "python3"
  },
  "language_info": {
   "codemirror_mode": {
    "name": "ipython",
    "version": 3
   },
   "file_extension": ".py",
   "mimetype": "text/x-python",
   "name": "python",
   "nbconvert_exporter": "python",
   "pygments_lexer": "ipython3",
   "version": "3.8.5"
  }
 },
 "nbformat": 4,
 "nbformat_minor": 4
}
